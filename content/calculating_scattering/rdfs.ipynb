{
 "cells": [
  {
   "cell_type": "markdown",
   "metadata": {},
   "source": [
    "## Radial distribution function\n",
    "The scattering from a particle may be thought of as a Fourier transform of the radial distribution function (RDF) in the simulation. \n",
    "The RDF is the probability that a particle will be found at a given distance from another. \n",
    "We are able to visualise the RDF from a pylj simulation using the following code (at the end of the simulation, the average RDF will be presented). "
   ]
  },
  {
   "cell_type": "code",
   "execution_count": null,
   "metadata": {},
   "outputs": [],
   "source": [
    "from pylj import md, sample\n",
    "\n",
    "def md_simulation(number_of_particles, temperature, \n",
    "                  box_length, number_of_steps, \n",
    "                  sample_frequency):\n",
    "    \"\"\"\n",
    "    Runs a molecular dynamics simulation in using the pylj \n",
    "    molecular dynamics engine.\n",
    "    \n",
    "    Parameters\n",
    "    ----------\n",
    "    number_of_particles: int\n",
    "        The number of particles in the simulation\n",
    "    temperature: float\n",
    "        The temperature for the initialisation and \n",
    "        thermostating\n",
    "    box_length: float\n",
    "        The length of the simulation square\n",
    "    number_of_steps: int\n",
    "        The number of molecular dynamics steps to run\n",
    "    sample_frequency: \n",
    "        How regularly the visualisation should be updated\n",
    "        \n",
    "    Returns\n",
    "    -------\n",
    "    pylj.util.System\n",
    "        The complete system information from pylj\n",
    "    \"\"\"\n",
    "    %matplotlib notebook\n",
    "    system = md.initialise(number_of_particles, temperature, \n",
    "                           box_length, 'square')\n",
    "    sample_system = sample.RDF(system)\n",
    "    system.time = 0\n",
    "    for i in range(0, number_of_steps):\n",
    "        system.integrate(md.velocity_verlet)\n",
    "        system.md_sample()\n",
    "        system.heat_bath(temperature)\n",
    "        system.time += system.timestep_length\n",
    "        system.step += 1\n",
    "        if system.step % sample_frequency == 0:\n",
    "            sample_system.update(system)\n",
    "    sample_system.average()\n",
    "    return system\n",
    "\n",
    "system = md_simulation(20, 300, 20, 2000, 25)"
   ]
  },
  {
   "cell_type": "markdown",
   "metadata": {},
   "source": [
    "If we vary the temperature or particle density of the simulation we should see changed in the RDF.\n",
    "Compare the RDFs you obtain to those shown below and consider which of a, b, and c represent a solid, liquid and a gas. \n",
    "\n",
    "<center>\n",
    "    <br>\n",
    "    <img src=\"../images/rdfs.png\" width=\"700px\"><br>\n",
    "    <i>Figure 1. Radial distribution functions at different experimental conditions.</i>\n",
    "    <br>\n",
    "</center>"
   ]
  },
  {
   "cell_type": "code",
   "execution_count": null,
   "metadata": {},
   "outputs": [],
   "source": []
  }
 ],
 "metadata": {
  "kernelspec": {
   "display_name": "Python 3",
   "language": "python",
   "name": "python3"
  },
  "language_info": {
   "codemirror_mode": {
    "name": "ipython",
    "version": 3
   },
   "file_extension": ".py",
   "mimetype": "text/x-python",
   "name": "python",
   "nbconvert_exporter": "python",
   "pygments_lexer": "ipython3",
   "version": "3.7.1"
  }
 },
 "nbformat": 4,
 "nbformat_minor": 2
}
