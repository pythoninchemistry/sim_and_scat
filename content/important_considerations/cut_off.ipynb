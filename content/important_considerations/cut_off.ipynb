{
 "cells": [
  {
   "cell_type": "markdown",
   "metadata": {},
   "source": [
    "## Cut-offs\n",
    "\n",
    "Plotting the Lennard-Jones potential across a very large distance will give something similar to that shown below. "
   ]
  },
  {
   "cell_type": "code",
   "execution_count": 4,
   "metadata": {},
   "outputs": [
    {
     "data": {
      "image/png": "[encoded data removed]",
      "text/plain": [
       "<Figure size 432x288 with 1 Axes>"
      ]
     },
     "metadata": {
      "needs_background": "light"
     },
     "output_type": "display_data"
    }
   ],
   "source": [
    "%matplotlib inline\n",
    "import numpy as np\n",
    "import matplotlib.pyplot as plt\n",
    "\n",
    "def lj_force(r, epsilon, sigma):\n",
    "    \"\"\"\n",
    "    Implementation of the Lennard-Jones potential \n",
    "    to calculate the force of the interaction.\n",
    "    \n",
    "    Parameters\n",
    "    ----------\n",
    "    r: float\n",
    "        Distance between two particles (Å)\n",
    "    epsilon: float \n",
    "        Potential energy at the equilibrium bond \n",
    "        length (eV)\n",
    "    sigma: float \n",
    "        Distance at which the potential energy is \n",
    "        zero (Å)\n",
    "    \n",
    "    Returns\n",
    "    -------\n",
    "    float\n",
    "        Force of the van der Waals interaction (eV/Å)\n",
    "    \"\"\"\n",
    "    return 48 * epsilon * np.power(\n",
    "        sigma / r, 13) - 24 * epsilon * np.power(\n",
    "        sigma / r, 7)\n",
    "\n",
    "r = np.linspace(3.5, 15, 100)\n",
    "plt.plot(r, lj_force(r, 0.0103, 3.4))\n",
    "plt.xlabel(r'$r$/Å')\n",
    "plt.ylabel(r'$f$/eVÅ$^{-1}$')\n",
    "plt.show()"
   ]
  },
  {
   "cell_type": "markdown",
   "metadata": {},
   "source": [
    "It is clear that as the particles move further away from each other, the force between them **tends towards zero**. \n",
    "The concept of a cut-off suggests that if two particles are found to be very far apart, there is **no need** to calculate thh energy/force. \n",
    "Instead the value is simply taken as 0,\n",
    "\n",
    "$$       f(r_{ij})=\\left\\{\n",
    "  \\begin{array}{@{}ll@{}}\n",
    "    48\\varepsilon\\Bigg(\\dfrac{\\sigma^{12}}{r^{13}}\\Bigg) - 24\\varepsilon\\Bigg(\\dfrac{\\sigma^{6}}{r^{7}}\\Bigg), & \\text{if}\\ a<15\\text{ Å} \\\\\n",
    "    0, & \\text{otherwise.}\n",
    "  \\end{array}\\right.\n",
    "$$\n",
    "\n",
    "When there are periodic boundaries present (mentioned later), the cut-off ensures that the forces are not sampled incorrectly by having a cut-off of less than half of the cell size.  \n",
    "\n",
    "This Python code below shows a modification of the Lennard-Jones potential that accounts for this cut-off."
   ]
  },
  {
   "cell_type": "code",
   "execution_count": 5,
   "metadata": {},
   "outputs": [],
   "source": [
    "cutoff = 15 \n",
    "\n",
    "def lj_force_cutoff(r, epsilon, sigma):\n",
    "    \"\"\"\n",
    "    Implementation of the Lennard-Jones potential \n",
    "    to calculate the force of the interaction which \n",
    "    is considerate of the cut-off.\n",
    "    \n",
    "    Parameters\n",
    "    ----------\n",
    "    r: float\n",
    "        Distance between two particles (Å)\n",
    "    epsilon: float \n",
    "        Potential energy at the equilibrium bond \n",
    "        length (eV)\n",
    "    sigma: float \n",
    "        Distance at which the potential energy is \n",
    "        zero (Å)\n",
    "    \n",
    "    Returns\n",
    "    -------\n",
    "    float\n",
    "        Force of the van der Waals interaction (eV/Å)\n",
    "    \"\"\"\n",
    "    if r < cutoff:\n",
    "        return 48 * epsilon * np.power(\n",
    "            sigma / r, 13) - 24 * epsilon * np.power(\n",
    "            sigma / r, 7)\n",
    "    else:\n",
    "        return 0"
   ]
  },
  {
   "cell_type": "code",
   "execution_count": null,
   "metadata": {},
   "outputs": [],
   "source": []
  }
 ],
 "metadata": {
  "kernelspec": {
   "display_name": "Python 3",
   "language": "python",
   "name": "python3"
  },
  "language_info": {
   "codemirror_mode": {
    "name": "ipython",
    "version": 3
   },
   "file_extension": ".py",
   "mimetype": "text/x-python",
   "name": "python",
   "nbconvert_exporter": "python",
   "pygments_lexer": "ipython3",
   "version": "3.7.1"
  }
 },
 "nbformat": 4,
 "nbformat_minor": 2
}
