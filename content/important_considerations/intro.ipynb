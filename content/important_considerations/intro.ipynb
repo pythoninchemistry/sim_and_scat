{
 "cells": [
  {
   "cell_type": "markdown",
   "metadata": {
    "slideshow": {
     "slide_type": "slide"
    }
   },
   "source": [
    "# Important Considerations"
   ]
  },
  {
   "cell_type": "markdown",
   "metadata": {
    "slideshow": {
     "slide_type": "slide"
    }
   },
   "source": [
    "## Overview\n",
    "\n",
    "**Questions**\n",
    "- What else should I be aware of?\n",
    "\n",
    "**Objectives**\n",
    "- Understand the different MD ensembles possible\n",
    "- Become familiar with the cut-off and periodic boundary condition as a method to speed up MD simulation\n",
    "- Understand how to implement such simplifications in the MD"
   ]
  },
  {
   "cell_type": "markdown",
   "metadata": {
    "slideshow": {
     "slide_type": "slide"
    }
   },
   "source": [
    "Molecular dynamics (MD) is a powerful simulation technique in it's own right. \n",
    "However, in order to apply MD to practical simulations (e.g. of **real** systems), some other things should be considered must be made.\n",
    "\n",
    "## Ensembles\n",
    "\n",
    "The molecular dynamics algorithm outlined in the previous lesson makes use of the NVE ensemble (also known as the microcanonical ensemble), where the number of particles (N), volume of the system (V), and energy of the system (E) are all **kept constant**. \n",
    "This is not the only, or the most accurate, ensemble that exists, there is also other such as:\n",
    "- NVT (canonical): number of particles (N), volume of system (V), temperature of the simulation (T)\n",
    "- NPT (isothermal-isobaric): number of particles (N), pressure of system (P), temperature of the simulation (T)\n",
    "\n",
    "For both the canonical and isothermal-isobaric ensembles, it is necessary to determine a method to **modulate the temperature** of the system. \n",
    "The temperature can be modulated using a variety of methods known as thermostating. \n",
    "The simplest, although one of the least accruate, is velocity rescaling. \n",
    "This is where the velocities of the individual particles are changed such that the kinetic energy of the total system more accurately matches that necessary for the desired temperature. \n",
    "For this the instaneous temperature of the system, $T_{\\text{inst}}$, is defined as, \n",
    "\n",
    "$$ T_{\\text{inst}} = \\frac{\\sum^N_{i=0}{m_i v_i^2}}{2Nk_B}, $$\n",
    "\n",
    "where, $N$ is the number of particles, $m_i$ is the mass of particle $i$, $v_i$ is the velocity of particle $i$, and $k_B$ is the Boltzmann constant. \n",
    "This means that the velocities of the particles may be rescaled by the following relation, \n",
    "\n",
    "$$ \\mathbf{v}_i = \\mathbf{v}_i \\sqrt{\\dfrac{T_{\\text{target}}}{\\bar{T}}}, $$\n",
    "\n",
    "where $\\mathbf{v}_i$ is the velocity of particle $i$, $T_{\\text{target}}$ is the target temperature for the themostat, and $\\bar{T}$ is the average simulation temperature. \n",
    "pylj [1], to software that you shall use in the next lesson uses this method for producing an NVT simulation, using the `heat_bath` function. \n",
    "Various **other methods** for thermostating exist, such as the Anderson, Nosé-Hoover, or the Berendsen [2-5]. \n",
    "\n",
    "In order to achieve the NPT ensemble, it is necessary to use a **barostat** in addition to a thermostat. \n",
    "These allow the volume of the system to vary such that the pressure is constant throughout the simulation.\n",
    "We will not discuss barostats any further, but there is plenty of information in more detailed texts. \n",
    "\n",
    "## Cut-offs\n",
    "\n",
    "If we plot the Lennard-Jones potential all the way out to 15 Å, it will look something like this."
   ]
  },
  {
   "cell_type": "code",
   "execution_count": 1,
   "metadata": {},
   "outputs": [
    {
     "data": {
      "image/png": "[encoded data removed]",
      "text/plain": [
       "<Figure size 576x360 with 1 Axes>"
      ]
     },
     "metadata": {
      "needs_background": "light"
     },
     "output_type": "display_data"
    }
   ],
   "source": [
    "%matplotlib inline\n",
    "import numpy as np\n",
    "import matplotlib.pyplot as plt\n",
    "\n",
    "def lj_force(rij, a, b):\n",
    "    \"\"\"\n",
    "    Implementation of the Lennard-Jones potential \n",
    "    to calculate the force of the interaction.\n",
    "    \n",
    "    Parameters\n",
    "    ----------\n",
    "    rij: float\n",
    "        Distance between particles i and j\n",
    "    a: float \n",
    "        A parameter for interaction between i and j\n",
    "    b: float \n",
    "        B parameter for interaction between i and j\n",
    "    \n",
    "    Returns\n",
    "    -------\n",
    "    float\n",
    "        Force of the interaction between i and j.\n",
    "    \"\"\"\n",
    "    return 12 * a / np.power(rij, 13) - 6 * b / np.power(rij, 7)\n",
    "\n",
    "r = np.linspace(3e-10, 15e-10, 100)\n",
    "fig = plt.figure(figsize=(8, 5))\n",
    "ax = fig.add_subplot(111)\n",
    "ax.plot(r, lj_force(r, 1.363e-134, 9.273e-78))\n",
    "ax.set_xlabel(r'$r_{ij}$/m')\n",
    "ax.set_ylabel(r'$f$/N')\n",
    "plt.show()"
   ]
  },
  {
   "cell_type": "markdown",
   "metadata": {},
   "source": [
    "It is clear that as the particles move further away from each other, the force between them **tends towards zero**. \n",
    "The concept of a cut-off suggests that if two particles are found to be very far apart, there is **no need** to calculate thh energy/force. \n",
    "Instead the value is simply taken as 0,\n",
    "\n",
    "$$       f(r_{ij})=\\left\\{\n",
    "  \\begin{array}{@{}ll@{}}\n",
    "    \\dfrac{12A}{r_{ij}^{13}} - \\dfrac{6B}{r_{ij}^7}, & \\text{if}\\ a<15\\text{ Å} \\\\\n",
    "    0, & \\text{otherwise.}\n",
    "  \\end{array}\\right.\n",
    "$$\n",
    "\n",
    "In addition to saving some computational cost, this provides a **more** realistic simulation. \n",
    "Furthermore, when there are periodic boundaries present (mentioned below), the cut-off ensures that the forces are not sampled incorrectly by having a cut-off of less than half of the cell size.  \n",
    "\n",
    "This Python code below shows a modification of the Lennard-Jones potential that accounts for this cut-off."
   ]
  },
  {
   "cell_type": "code",
   "execution_count": 2,
   "metadata": {},
   "outputs": [],
   "source": [
    "cutoff = 15e-10\n",
    "\n",
    "def lj_force_cutoff(rij, a, b):\n",
    "    \"\"\"\n",
    "    Implementation of the Lennard-Jones potential \n",
    "    to calculate the force of the interaction which \n",
    "    is considerate of the cut-off.\n",
    "    \n",
    "    Parameters\n",
    "    ----------\n",
    "    rij: float\n",
    "        Distance between particles i and j\n",
    "    a: float \n",
    "        A parameter for interaction between i and j\n",
    "    b: float \n",
    "        B parameter for interaction between i and j\n",
    "    \n",
    "    Returns\n",
    "    -------\n",
    "    float\n",
    "        Force of the interaction between i and j.\n",
    "    \"\"\"\n",
    "    if rij < cutoff:\n",
    "        return 12 * a / np.power(rij, 13) - 6 * b / np.power(rij, 7)\n",
    "    else:\n",
    "        return 0"
   ]
  },
  {
   "cell_type": "markdown",
   "metadata": {},
   "source": [
    "## Periodic boundary conditions\n",
    "\n",
    "Even with cut-offs, it is still not possible to simulate a *realistic* system. \n",
    "This would require many more atoms than are possible on current computers.\n",
    "An example of a very large molecular dynamics simulation is ~3 million atoms [6]. \n",
    "However, this is still only 1.8×10<sup>-16</sup> moles, which is **nowhere near** a realistic amount of substance.\n",
    "\n",
    "The use of **periodic boundary conditions** (PBCs) creates an infinite pseudo-crystal of the simulation cell, arranged in a lattice. \n",
    "This allows for more realistic simulations as the system is able to interact through the cell walls with the adjacent cell. \n",
    "Figure 1 shows a pictorial example of a PBC. "
   ]
  },
  {
   "cell_type": "markdown",
   "metadata": {},
   "source": [
    "<center>\n",
    "    <br>\n",
    "    <img src=\"../images/pbc.png\" width=\"300px\">\n",
    "    <i>Figure 1. A two-dimensional example of a periodic cell.</i>\n",
    "    <br>\n",
    "</center>"
   ]
  },
  {
   "cell_type": "markdown",
   "metadata": {},
   "source": [
    "When a particle reaches the cell wall it moves into the adjecent cell, and since all the cells are identical, it appears on the other side. \n",
    "The code below modifies the `update_pos` and `get_acceleration` functions from the previous lesson to account for the periodic boundary condition."
   ]
  },
  {
   "cell_type": "code",
   "execution_count": 3,
   "metadata": {},
   "outputs": [],
   "source": [
    "mass_of_argon = 39.948 # amu\n",
    "mass_of_argon_kg = mass_of_argon * 1.6605e-27\n",
    "\n",
    "def update_pos(x, v, a, dt, box_length):\n",
    "    \"\"\"\n",
    "    Update the particle positions accounting for the \n",
    "    periodic boundary condition.\n",
    "    \n",
    "    Parameters\n",
    "    ----------\n",
    "    x: ndarray of floats\n",
    "        The positions of the particles in a single dimension\n",
    "    v: ndarray of floats\n",
    "        The velocities of the particles in a single dimension\n",
    "    a: ndarray of floats\n",
    "        The accelerations of the particles in a single dimension\n",
    "    dt: float\n",
    "        The timestep length\n",
    "    box_length: float \n",
    "        The size of the periodic cell\n",
    "    \n",
    "    Returns\n",
    "    -------\n",
    "    ndarray of floats:\n",
    "        New positions of the particles in a single dimension\n",
    "    \"\"\"\n",
    "    new_pos = x + v * dt + 0.5 * a * dt * dt\n",
    "    new_pos = new_pos % box_length\n",
    "    return new_pos\n",
    "\n",
    "def get_accelerations(positions, box_length, cutoff):\n",
    "    \"\"\"\n",
    "    Calculate the acceleration on each particle as a \n",
    "    result of each other particle. \n",
    "    \n",
    "    Parameters\n",
    "    ----------\n",
    "    positions: ndarray of floats\n",
    "        The positions, in a single dimension, for all\n",
    "        of the particles\n",
    "    box_length: float \n",
    "        The size of the periodic cell\n",
    "    cutoff: float\n",
    "        The distance after which the interaction \n",
    "        is ignored\n",
    "        \n",
    "    Returns\n",
    "    -------\n",
    "    ndarray of floats\n",
    "        The acceleration on each particle\n",
    "    \"\"\"\n",
    "    accel_x = np.zeros((positions.size, positions.size))\n",
    "    for i in range(0, positions.size - 1):\n",
    "        for j in range(i + 1, positions.size):\n",
    "            r_x = positions[j] - positions[i]\n",
    "            rmag = np.sqrt(r_x * r_x)\n",
    "            force_scalar = lj_force(rmag, 1.363e-134, 9.273e-78)\n",
    "            force_x = force_scalar * r_x / rmag\n",
    "            accel_x[i, j] = force_x / mass_of_argon_kg\n",
    "            accel_x[j, i] = - force_x / mass_of_argon_kg\n",
    "    return np.sum(accel_x, axis=0)"
   ]
  },
  {
   "cell_type": "markdown",
   "metadata": {},
   "source": [
    "This means that we can use these new functions in our molecular dynamics simulation built previously. "
   ]
  },
  {
   "cell_type": "code",
   "execution_count": 5,
   "metadata": {},
   "outputs": [
    {
     "data": {
      "image/png": "[encoded data removed]",
      "text/plain": [
       "<Figure size 576x360 with 1 Axes>"
      ]
     },
     "metadata": {
      "needs_background": "light"
     },
     "output_type": "display_data"
    }
   ],
   "source": [
    "from scipy.constants import Boltzmann\n",
    "\n",
    "def update_velo(v, a, a1, dt):\n",
    "    \"\"\"\n",
    "    Update the particle velocities.\n",
    "    \n",
    "    Parameters\n",
    "    ----------\n",
    "    v: ndarray of floats\n",
    "        The velocities of the particles in a single dimension\n",
    "    a: ndarray of floats\n",
    "        The accelerations of the particles in a single dimension \n",
    "        at the previous timestep\n",
    "    a1: ndarray of floats\n",
    "        The accelerations of the particles in a single dimension\n",
    "        at the current timestep\n",
    "    dt: float\n",
    "        The timestep length\n",
    "    \n",
    "    Returns\n",
    "    -------\n",
    "    ndarray of floats:\n",
    "        New velocities of the particles in a single dimension\n",
    "    \"\"\"\n",
    "    return v + 0.5 * (a + a1) * dt\n",
    "\n",
    "def init_velocity(T, number_of_particles):\n",
    "    \"\"\"\n",
    "    Initialise the velocities for a series of particles.\n",
    "    \n",
    "    Parameters\n",
    "    ----------\n",
    "    T: float\n",
    "        Temperature of the system at initialisation\n",
    "    number_of_particles: int\n",
    "        Number of particles in the system\n",
    "    \n",
    "    Returns\n",
    "    -------\n",
    "    ndarray of floats\n",
    "        Initial velocities for a series of particles\n",
    "    \"\"\"\n",
    "    R = np.random.rand(number_of_particles) - 0.5\n",
    "    return R * np.sqrt(Boltzmann * T / mass_of_argon_kg)\n",
    "\n",
    "def run_md(dt, number_of_steps, initial_temp, x, box_length):\n",
    "    \"\"\"\n",
    "    Run a MD simulation.\n",
    "    \n",
    "    Parameters\n",
    "    ----------\n",
    "    dt: float\n",
    "        The timestep length\n",
    "    number_of_steps: int\n",
    "        Number of iterations in the simulation\n",
    "    initial_temp: float\n",
    "        Temperature of the system at initialisation\n",
    "    x: ndarray of floats\n",
    "        The initial positions of the particles in a single dimension\n",
    "    box_length: float \n",
    "        The size of the periodic cell\n",
    "        \n",
    "    Returns\n",
    "    -------\n",
    "    ndarray of floats\n",
    "        The positions for all of the particles throughout the simulation\n",
    "    \"\"\"\n",
    "    cutoff = box_length / 2.\n",
    "    positions = np.zeros((number_of_steps, 3))\n",
    "    v = init_velocity(initial_temp, 3)\n",
    "    a = get_accelerations(x, box_length, cutoff)\n",
    "    for i in range(number_of_steps):\n",
    "        x = update_pos(x, v, a, dt, box_length)\n",
    "        a1 = get_accelerations(x, box_length, cutoff)\n",
    "        v = update_velo(v, a, a1, dt)\n",
    "        a = np.array(a1)\n",
    "        positions[i, :] = x\n",
    "    return positions\n",
    "\n",
    "box_length = 5e-9\n",
    "sim_pos = run_md(1e-14, 10000, 300, np.array([1e-10, 5e-10, 1e-9]), box_length)\n",
    "    \n",
    "%matplotlib inline\n",
    "fig = plt.figure(figsize=(8, 5))\n",
    "ax = fig.add_subplot(111)\n",
    "for i in range(sim_pos.shape[1]):\n",
    "    ax.plot(sim_pos[:, i], '.', label='atom {}'.format(i))\n",
    "ax.set_ylim(0, box_length)\n",
    "ax.set_xlabel(r'Step')\n",
    "ax.set_ylabel(r'$x$-Position/m')\n",
    "ax.legend(frameon=False)\n",
    "plt.show()"
   ]
  },
  {
   "cell_type": "markdown",
   "metadata": {
    "slideshow": {
     "slide_type": "slide"
    }
   },
   "source": [
    "## Key Points\n",
    "- Note that there are simplifications that are possible for MD simulations\n",
    "- The cut-off reduces the number of interactions for which the energy/force must be determined\n",
    "- The periodic boundary condition creates a pseudo-crystal of the cell being simulated"
   ]
  },
  {
   "cell_type": "markdown",
   "metadata": {},
   "source": [
    "# References\n",
    "\n",
    "1. McCluskey, A. R., Morgan, B. J., Edler, K. J., & Parker, S. C. (2018). *JOSE*, **1**, 19, [10.21105/jose.00019](https://doi.org/10.21105/jose.00019)\n",
    "2. Andersen, H. C. (1980). J. Chem. Phys., **72**, 2384, [10.1063/1.439486](https://doi.org/10.1063/1.439486)\n",
    "3. Nosé, S. (1984). J. Chem. Phys., **81**, 511-519, [10.1063/1.447334](https://doi.org/10.1063/1.447334).\n",
    "4. Hoover, W. G. (1985). Phys. Rev. A., **31**, 1695-1697, [10.1103/PhysRevA.31.1695](https://doi.org/10.1103/PhysRevA.31.1695)\n",
    "5. Berendsen, H. J. C., Postma, J. P. M., van Gunsteren, W. F., DiNola, A., & Haak, J. R. (1984). J. Chem. Phys., **81**, 3684-3690, [10.1063/1.448118](https://doi.org/10.1063/1.448118).\n",
    "6. Gumbart, J., Trabuco, L. G., Schreiner, E., Villa, E., and Schulten, K. (2009). Structure, **17**, 1453-1464, [10.1016/j.str.2009.09.010](https://doi.org/10.1016/j.str.2009.09.010)"
   ]
  },
  {
   "cell_type": "code",
   "execution_count": null,
   "metadata": {},
   "outputs": [],
   "source": []
  }
 ],
 "metadata": {
  "celltoolbar": "Slideshow",
  "kernelspec": {
   "display_name": "Python [default]",
   "language": "python",
   "name": "python3"
  },
  "language_info": {
   "codemirror_mode": {
    "name": "ipython",
    "version": 3
   },
   "file_extension": ".py",
   "mimetype": "text/x-python",
   "name": "python",
   "nbconvert_exporter": "python",
   "pygments_lexer": "ipython3",
   "version": "3.7.0"
  }
 },
 "nbformat": 4,
 "nbformat_minor": 2
}
