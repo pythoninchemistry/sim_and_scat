{
 "cells": [
  {
   "cell_type": "markdown",
   "metadata": {
    "slideshow": {
     "slide_type": "slide"
    }
   },
   "source": [
    "# Molecular Dynamics"
   ]
  },
  {
   "cell_type": "markdown",
   "metadata": {
    "slideshow": {
     "slide_type": "slide"
    }
   },
   "source": [
    "We have introduced the classical potential models, and have derived and showen some of their basic properties.\n",
    "Now we can use these potential models to look at the dynamics of the system. \n",
    "\n",
    "## Force and acceleration\n",
    "The particles that we study are classical in nature, therefore we can apply classical mechanics to rationalise their dynamic behaviour. \n",
    "For this the starting point is **Newton's second law of motion**, \n",
    "\n",
    "$$ \\mathbf{f} = m\\mathbf{a}, $$\n",
    "\n",
    "where $\\mathbf{f}$ is the force vector on an atom of mass, $m$, with an acceleration vector, $\\mathbf{a}$. \n",
    "The force, $f$, between two particles, at a position $r$, can be found from the interaction energy, $E(r)$, \n",
    "\n",
    "$$ f = \\dfrac{-\\partial E(r)}{\\partial r}.$$\n",
    "\n",
    "Which is to say that the force is the negative of the first derivative of the energy with respect to the postion of the particles.\n",
    "The Python code below creates a new function that is capable of calculating the force from the Lennard-Jones potential. \n",
    "The force on the atoms is then plotted."
   ]
  },
  {
   "cell_type": "code",
   "execution_count": 4,
   "metadata": {},
   "outputs": [
    {
     "data": {
      "image/png": "[encoded data removed]",
      "text/plain": [
       "<Figure size 432x288 with 1 Axes>"
      ]
     },
     "metadata": {
      "needs_background": "light"
     },
     "output_type": "display_data"
    }
   ],
   "source": [
    "%matplotlib inline\n",
    "import numpy as np\n",
    "import matplotlib.pyplot as plt\n",
    "\n",
    "def lj_force(r, epsilon, sigma):\n",
    "    \"\"\"\n",
    "    Implementation of the Lennard-Jones potential \n",
    "    to calculate the force of the interaction.\n",
    "    \n",
    "    Parameters\n",
    "    ----------\n",
    "    r: float\n",
    "        Distance between two particles (Å)\n",
    "    epsilon: float \n",
    "        Potential energy at the equilibrium bond \n",
    "        length (eV)\n",
    "    sigma: float \n",
    "        Distance at which the potential energy is \n",
    "        zero (Å)\n",
    "    \n",
    "    Returns\n",
    "    -------\n",
    "    float\n",
    "        Force of the van der Waals interaction (eV/Å)\n",
    "    \"\"\"\n",
    "    return 48 * epsilon * np.power(\n",
    "        sigma, 12) / np.power(\n",
    "        r, 13) - 24 * epsilon * np.power(\n",
    "        sigma, 6) / np.power(r, 7)\n",
    "    \n",
    "r = np.linspace(3.5, 8, 100)\n",
    "plt.plot(r, lj_force(r, 0.0103, 3.4))\n",
    "plt.xlabel(r'$r$/Å')\n",
    "plt.ylabel(r'$f$/eVÅ$^{-1}$')\n",
    "plt.show()"
   ]
  },
  {
   "cell_type": "markdown",
   "metadata": {},
   "source": [
    "You may have noticed that in Newton's second law of motion, the force is a vector quantity, whereas the first negative derivative of the energy is a scalar.\n",
    "Therefore, it is important that we determine the force in each direction for our simulation.\n",
    "This is achieved by multiplication by the unit vector in that direction,\n",
    "\n",
    "$$ \\mathbf{f}_x = f\\hat{\\mathbf{r}}_x\\text{, where }\\hat{\\mathbf{r}}_x = \\dfrac{r_x}{|\\mathbf{r}|}. $$\n",
    "\n",
    "In the above equation, $r_x$ is the distance between the two particles in the $x$-dimension and $|\\mathbf{r}|$ is the magnitude of the distance vector. \n",
    "For simplicity, we will initially **only** consider particles interacting in a one-dimensional space. \n",
    "\n",
    "The Python code below shows how to determine the acceleration on each atom of argon due to each other atom of argon. \n",
    "It is possible to **increase the efficiency** of this algorithm by applying Newton's third law, e.g. the force on atom $i$ will be equal and opposite to the force on atom $j$. "
   ]
  },
  {
   "cell_type": "code",
   "execution_count": 5,
   "metadata": {},
   "outputs": [
    {
     "name": "stdout",
     "output_type": "stream",
     "text": [
      "Acceleration on particle 0 = 1.453e-04 eV/Åamu\n",
      "Acceleration on particle 1 = -4.519e-05 eV/Åamu\n",
      "Acceleration on particle 2 = -1.002e-04 eV/Åamu\n"
     ]
    }
   ],
   "source": [
    "mass_of_argon = 39.948 # amu\n",
    "\n",
    "def get_accelerations(positions):\n",
    "    \"\"\"\n",
    "    Calculate the acceleration on each \n",
    "    particle as a  result of each other \n",
    "    particle. \n",
    "    N.B. We use the Python convention of\n",
    "    numbering from 0.\n",
    "    \n",
    "    Parameters\n",
    "    ----------\n",
    "    positions: ndarray of floats\n",
    "        The positions, in a single dimension, \n",
    "        for all of the particles (Å)\n",
    "        \n",
    "    Returns\n",
    "    -------\n",
    "    ndarray of floats\n",
    "        The acceleration on each particle (eV/Åamu)\n",
    "    \"\"\"\n",
    "    accel_x = np.zeros((positions.size, positions.size))\n",
    "    for i in range(0, positions.size - 1):\n",
    "        for j in range(i + 1, positions.size):\n",
    "            r_x = positions[j] - positions[i]\n",
    "            rmag = np.sqrt(r_x * r_x)\n",
    "            force_scalar = lj_force(rmag, 0.0103, 3.4)\n",
    "            force_x = force_scalar * r_x / rmag\n",
    "            accel_x[i, j] = force_x / mass_of_argon #eV Å-1 amu-1\n",
    "            # appling Newton's third law\n",
    "            accel_x[j, i] = - force_x / mass_of_argon\n",
    "    return np.sum(accel_x, axis=0)\n",
    "\n",
    "accel = get_accelerations(np.array([1, 5, 10]))\n",
    "print('Acceleration on particle 0 = {:.3e} eV/Åamu'.format(\n",
    "    accel[0]))\n",
    "print('Acceleration on particle 1 = {:.3e} eV/Åamu'.format(\n",
    "    accel[1]))\n",
    "print('Acceleration on particle 2 = {:.3e} eV/Åamu'.format(\n",
    "    accel[2]))"
   ]
  },
  {
   "cell_type": "markdown",
   "metadata": {},
   "source": [
    "## Integration\n",
    "\n",
    "Now that we have seen how to obtain the acceleration on our particles, we can apply the **Newtonian equations of motion** to probe the particles trajectory, \n",
    "\n",
    "$$ \\mathbf{x}_i(t + \\Delta t) = \\mathbf{x}_i(t) + \\mathbf{v}_i(t)\\Delta t + \\dfrac{1}{2} \\mathbf{a}_i(t)\\Delta t^2, $$\n",
    "\n",
    "$$ \\mathbf{v}_i(t + \\Delta t) = \\mathbf{v}_i(t) + \\dfrac{1}{2}\\big[\\mathbf{a}_i(t) + \\mathbf{a}_i(t+\\Delta t)\\big]\\Delta t, $$ \n",
    "\n",
    "where, $\\Delta t$ is the timestep (how far in time is incremented), $\\mathbf{x}_i$ is the particle position, $\\mathbf{v}_i$ is the velocity, and $\\mathbf{a}_i$ the acceleration. \n",
    "This pair of equations is known as the Velocity-Verlet algorithm, which can be written as:\n",
    "\n",
    "1. Calculate the force (and therefore acceleration) on the particle\n",
    "2. Determine a new velocity for the particle, based on the average acceleration at the current and new positions\n",
    "3. Overwrite the old acceleration values with the new ones, $\\mathbf{a}_i(t) = \\mathbf{a}_i(t+\\Delta t)$\n",
    "4. Find the position of the particle after some timestep\n",
    "5. Go to 1\n",
    "\n",
    "After the initial relaxation of the particles to equilibrium, this process can be continued for as long as is required to get **good statistics** for the quantity you are intereseting in. \n",
    "\n",
    "The Python code below is a set of two function for the above equations, these will be applied later."
   ]
  },
  {
   "cell_type": "code",
   "execution_count": 6,
   "metadata": {},
   "outputs": [],
   "source": [
    "def update_pos(x, v, a, dt):\n",
    "    \"\"\"\n",
    "    Update the particle positions.\n",
    "    \n",
    "    Parameters\n",
    "    ----------\n",
    "    x: ndarray of floats\n",
    "        The positions of the particles in a \n",
    "        single dimension (Å)\n",
    "    v: ndarray of floats\n",
    "        The velocities of the particles in a \n",
    "        single dimension (eVs/Åamu)\n",
    "    a: ndarray of floats\n",
    "        The accelerations of the particles in a \n",
    "        single dimension (eV/Åamu)\n",
    "    dt: float\n",
    "        The timestep length (s)\n",
    "    \n",
    "    Returns\n",
    "    -------\n",
    "    ndarray of floats:\n",
    "        New positions of the particles in a \n",
    "        single dimension (Å)\n",
    "    \"\"\"\n",
    "    return x + v * dt + 0.5 * a * dt * dt\n",
    "\n",
    "def update_velo(v, a, a1, dt):\n",
    "    \"\"\"\n",
    "    Update the particle velocities.\n",
    "    \n",
    "    Parameters\n",
    "    ----------\n",
    "    v: ndarray of floats\n",
    "        The velocities of the particles in a \n",
    "        single dimension (eVs/Åamu)\n",
    "    a: ndarray of floats\n",
    "        The accelerations of the particles in a \n",
    "        single dimension at the previous \n",
    "        timestep (eV/Åamu)\n",
    "    a1: ndarray of floats\n",
    "        The accelerations of the particles in a \n",
    "        single dimension at the current \n",
    "        timestep (eV/Åamu)\n",
    "    dt: float\n",
    "        The timestep length (s)\n",
    "    \n",
    "    Returns\n",
    "    -------\n",
    "    ndarray of floats:\n",
    "        New velocities of the particles in a \n",
    "        single dimension (eVs/Åamu)\n",
    "    \"\"\"\n",
    "    return v + 0.5 * (a + a1) * dt"
   ]
  },
  {
   "cell_type": "markdown",
   "metadata": {},
   "source": [
    "The above process is called the intergration step, and Velocity-Verlet is the **integrator**. \n",
    "This function is highly non-linear for more than two particles. \n",
    "The result is that the integration step will only be valid for very small values of $\\Delta t$, e.g. if a large timestep is used the acceleration calculated will not be accurate as the forces on the atom will change too significantly during it. \n",
    "The value for the timestep is usually on the order of 10<sup>-15</sup> s (femtoseconds). \n",
    "So in order to measure a nanosecond of \"real-time\" molecular dynamics, 1&nbsp;000&nbsp;000 (one million) iterations of the above algorithm must be performed. \n",
    "This can be very slow for large, realistic systems.\n",
    "\n",
    "## Initialisation\n",
    "\n",
    "There are only **two components** left that we need to run a molecular dynamics simulation, and both are associated with the original configuration of the system; the original particle positions, and the original particle velocities. \n",
    "\n",
    "The particle positions are usually either taken from some library of structures (e.g. the [protein data bank](http://www.rcsb.org) if you are simulating proteins) or based on some knowledge of the system (e.g. CaF<sub>2</sub> is well known to have a face-centred cubic structure). \n",
    "For complex, multicomponent systems, software such as Packmol [[1](#References)] may be used to build up the structure from its constituent parts.\n",
    "The importance of this initial structure **cannot be overstated**.\n",
    "For example if the initial structure is uinrepresentative of the equilibrium structure, it may take a very long time before the equilibrium structure is obtained, possibly much longer than can be reasonably simulated. \n",
    "\n",
    "The particle velocities are more general, as the total kinetic energy, $E_K$ of the system (and therefore the particle velocities) are dependent on the temperature of the simulation, $T$. \n",
    "\n",
    "$$ E_K = \\sum_{i=1}^N \\dfrac{m_i|v_i|^2}{2} = \\dfrac{3}{2}Nk_BT, $$\n",
    "\n",
    "where, $m_i$ is the mass of particle $i$, $N$ is the number of particles, and $k_B$ is the Boltzmann constant. \n",
    "A common method to initialise the velocities is implemented in the Python function below. "
   ]
  },
  {
   "cell_type": "code",
   "execution_count": 7,
   "metadata": {},
   "outputs": [],
   "source": [
    "from scipy.constants import Boltzmann\n",
    "\n",
    "def init_velocity(T, number_of_particles):\n",
    "    \"\"\"\n",
    "    Initialise the velocities for a series \n",
    "    of particles.\n",
    "    \n",
    "    Parameters\n",
    "    ----------\n",
    "    T: float\n",
    "        Temperature of the system at \n",
    "        initialisation (K)\n",
    "    number_of_particles: int\n",
    "        Number of particles in the \n",
    "        system\n",
    "    \n",
    "    Returns\n",
    "    -------\n",
    "    ndarray of floats\n",
    "        Initial velocities for a series of \n",
    "        particles (eVs/Åamu)\n",
    "    \"\"\"\n",
    "    R = np.random.rand(number_of_particles) - 0.5\n",
    "    return R * np.sqrt(Boltzmann * T / (mass_of_argon * 1.602e-19))"
   ]
  },
  {
   "cell_type": "markdown",
   "metadata": {},
   "source": [
    "## References\n",
    "\n",
    "1. Martínez, L.; Andrade, R.; Birgin, E. G.; Martínez, J. M. *J. Comput. Chem.* 2009, **30** (13), 2157–2164. [10.1002/jcc.21224](https://doi.org/10.1002/jcc.21224).\n"
   ]
  },
  {
   "cell_type": "code",
   "execution_count": null,
   "metadata": {},
   "outputs": [],
   "source": []
  }
 ],
 "metadata": {
  "celltoolbar": "Slideshow",
  "kernelspec": {
   "display_name": "Python 3",
   "language": "python",
   "name": "python3"
  },
  "language_info": {
   "codemirror_mode": {
    "name": "ipython",
    "version": 3
   },
   "file_extension": ".py",
   "mimetype": "text/x-python",
   "name": "python",
   "nbconvert_exporter": "python",
   "pygments_lexer": "ipython3",
   "version": "3.7.1"
  }
 },
 "nbformat": 4,
 "nbformat_minor": 2
}
