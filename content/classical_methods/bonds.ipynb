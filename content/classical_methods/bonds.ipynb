{
 "cells": [
  {
   "cell_type": "markdown",
   "metadata": {},
   "source": [
    "# Bonds\n",
    "\n",
    "Tha ability to simulate atoms interacting through the van der Waals and charged interactions is useful for the study of non-covalent materials. \n",
    "However, to truely probe the chemistry of a system we must also be able to model the bonded interactions. \n",
    "\n",
    "The potential energy of the bonded interactions of a system is usually made up of bonds, angles, dihedrals, and other higher order processes,\n",
    "\n",
    "$$ E_{\\text{bonded}} = E_{\\text{bond}}(\\mathbf{r}) + E_{\\text{angle}}(\\theta) + E_{\\text{dihedral}}(\\phi) + \\ldots . $$\n",
    "\n",
    "We will focus just on the first two, more information about the higher order processes can be found in relevent textbooks. \n",
    "The bond lengths are typically modelled with a harmonic potential energy function, \n",
    "\n",
    "$$ E_{\\text{bond}}(\\mathbf{r}) = \\frac{K_b}{2}(\\mathbf{r} - b_0)^2, $$\n",
    "\n",
    "where, $b_0$ is the equilibrium bond length and $K_b$ is the force constant for the bond. \n",
    "These must be determined (see [Parameterisation](http://pythoninchemistry.org/sim_and_scat/parameterisation/intro)), and $\\mathbf{r}$ is the distance between the two bonded particles. \n",
    "An example of this function can be seen below, using the parameters of a carbon-carbon bond."
   ]
  },
  {
   "cell_type": "code",
   "execution_count": null,
   "metadata": {},
   "outputs": [],
   "source": [
    "%matplotlib inline\n",
    "import numpy as np\n",
    "import matplotlib.pyplot as plt\n",
    "\n",
    "def bonded(kb, b0, r):\n",
    "    \"\"\"\n",
    "    Calculation of the potential energy of a bond.\n",
    "    \n",
    "    Parameters\n",
    "    ----------\n",
    "    kb: float\n",
    "        Bond force constant (units: eV/Å)\n",
    "    b0: float \n",
    "        Equilibrium bond length (units: Å)\n",
    "    r: float\n",
    "        Distance between two atoms\n",
    "    \n",
    "    Returns\n",
    "    float\n",
    "        Energy of the bonded interaction\n",
    "    \"\"\"\n",
    "    return kb / 2 * (r - b0) ** 2\n",
    "\n",
    "r = np.linspace(1, 2, 100)\n",
    "plt.plot(r, bonded(274965.16, 1.522, r))\n",
    "plt.xlabel(r'$r$/Å')\n",
    "plt.ylabel(r'$E$/eV')\n",
    "plt.show()"
   ]
  },
  {
   "cell_type": "markdown",
   "metadata": {},
   "source": [
    "The potential energy of an angle between two atoms that are separated by a third is modeled with a similar harmonic function, \n",
    "\n",
    "$$ E_{\\text{angle}}(\\theta) = \\frac{K_\\theta}{2}(\\theta - \\theta_0)^2, $$\n",
    "\n",
    "where, $\\theta$ is the measured angle, $K_\\theta$ is the force constant for the harmonic well, and $\\theta_0$ is the equilibrium angle size. \n",
    "This has the same shape as the bond potential energy curve shown above."
   ]
  },
  {
   "cell_type": "markdown",
   "metadata": {},
   "source": [
    "For the sake of simplicity, the remainder of this resource will only focus on non-bonded interactions. \n",
    "However, it is important to be aware that all aspects mentioned are **equally applicable** to bonded interactions."
   ]
  },
  {
   "cell_type": "code",
   "execution_count": null,
   "metadata": {},
   "outputs": [],
   "source": []
  }
 ],
 "metadata": {
  "celltoolbar": "Slideshow",
  "kernelspec": {
   "display_name": "Python 3",
   "language": "python",
   "name": "python3"
  },
  "language_info": {
   "codemirror_mode": {
    "name": "ipython",
    "version": 3
   },
   "file_extension": ".py",
   "mimetype": "text/x-python",
   "name": "python",
   "nbconvert_exporter": "python",
   "pygments_lexer": "ipython3",
   "version": "3.7.1"
  }
 },
 "nbformat": 4,
 "nbformat_minor": 2
}
