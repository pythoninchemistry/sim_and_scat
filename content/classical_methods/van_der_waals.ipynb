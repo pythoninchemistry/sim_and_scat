{
 "cells": [
  {
   "cell_type": "markdown",
   "metadata": {},
   "source": [
    "## The van der Waals interaction\n",
    "\n",
    "Previously, you were given the opportunity to observe particles that interact only through the van der Waals interaction. \n",
    "In order to achieve this it is necessary to have a **potential model**, a mathematical function, that is capable of modeling such an interaction. \n",
    "It is known that the van der Waals interaction encompasses **two** forces; the first is the long-range attractive London dispersion and the second is the short-range Pauli exclusion principle.\n",
    "Therefore, or potential model must be able to model both of these aspects. \n",
    "\n",
    "One mathematical function that is commonly applied is the **Lennard-Jones** potential model [[1](#references)], which considers the attractve London dispersion forces as follows, \n",
    "\n",
    "$$ E_{\\text{attractive}}(r) = -4\\varepsilon\\Big(\\dfrac{\\sigma}{r}\\Big)^6\\;,$$ \n",
    "\n",
    "where $\\sigma$ is the distance at which the potential energy between the two particles is zero, $-\\varepsilon$ is the potential energy at the equilbrium separation, and $r$ is the distance between the two atoms. \n",
    "The Pauli exclusion principle is repulsive and only present over very short distances modelled as, \n",
    "\n",
    "$$ E_{\\text{repulsive}}(r) = 4\\varepsilon\\Big(\\dfrac{\\sigma}{r}\\Big)^{12}\\;,$$\n",
    "\n",
    "The Python code below defines each of the components of the Lennard-Jones potential and the total energy of the interaction.\n",
    "These are then all plotted on a single graph. \n",
    "The values of $\\sigma$ and $\\varepsilon$ are those associated with an argon-argon interaction, as defined by Rahman [[2](#references)]."
   ]
  },
  {
   "cell_type": "code",
   "execution_count": 2,
   "metadata": {},
   "outputs": [
    {
     "data": {
      "image/png": "[encoded data removed]",
      "text/plain": [
       "<Figure size 432x288 with 1 Axes>"
      ]
     },
     "metadata": {
      "needs_background": "light"
     },
     "output_type": "display_data"
    }
   ],
   "source": [
    "%matplotlib inline\n",
    "import numpy as np\n",
    "import matplotlib.pyplot as plt\n",
    "\n",
    "def attractive_energy(r, epsilon, sigma):\n",
    "    \"\"\"\n",
    "    Attractive component of the Lennard-Jones interaction\n",
    "    energy.\n",
    "    \n",
    "    Parameters\n",
    "    ----------\n",
    "    r: float\n",
    "        Distance between two particles (Å)\n",
    "    epsilon: float \n",
    "        Potential energy at the equilibrium bond length (eV)\n",
    "    sigma: float \n",
    "        Distance at which the potential energy is zero (Å)\n",
    "    \n",
    "    Returns\n",
    "    -------\n",
    "    float\n",
    "        Energy of attractive component of Lennard-Jones \n",
    "        interaction\n",
    "    \"\"\"\n",
    "    return -4 * epsilon * np.power(sigma / r, 6)\n",
    "\n",
    "def repulsive_energy(r, epsilon, sigma):\n",
    "    \"\"\"\n",
    "    Repulsive component of the Lennard-Jones interaction\n",
    "    energy.\n",
    "    \n",
    "    Parameters\n",
    "    ----------\n",
    "    r: float\n",
    "        Distance between two particles (Å)\n",
    "    epsilon: float \n",
    "        Potential energy at the equilibrium bond length (eV)\n",
    "    sigma: float \n",
    "        Distance at which the potential energy is zero (Å)\n",
    "    \n",
    "    Returns\n",
    "    -------\n",
    "    float\n",
    "        Energy of repulsive component of Lennard-Jones \n",
    "        interaction\n",
    "    \"\"\"\n",
    "    return 4 * epsilon * np.power(sigma / r, 12)\n",
    "\n",
    "def lj_energy(r, epsilon, sigma):\n",
    "    \"\"\"\n",
    "    Implementation of the Lennard-Jones potential \n",
    "    to calculate the energy of the interaction.\n",
    "    \n",
    "    Parameters\n",
    "    ----------\n",
    "    r: float\n",
    "        Distance between two particles (Å)\n",
    "    epsilon: float \n",
    "        Potential energy at the equilibrium bond length (eV)\n",
    "    sigma: float \n",
    "        Distance at which the potential energy is zero (Å)\n",
    "    \n",
    "    Returns\n",
    "    -------\n",
    "    float\n",
    "        Energy of the van der Waals interaction\n",
    "    \"\"\"\n",
    "    return repulsive_energy(r, epsilon, sigma) + attractive_energy(r, epsilon, sigma)\n",
    "\n",
    "r = np.linspace(3, 8, 100)\n",
    "plt.plot(r, attractive_energy(r, 0.0103, 3.4), label='Attractive')\n",
    "plt.plot(r, repulsive_energy(r, 0.0103, 3.4), label='Repulsive')\n",
    "plt.plot(r, lj_energy(r, 0.0103, 3.4), label='Lennard-Jones')\n",
    "plt.xlabel(r'$r$/Å')\n",
    "plt.ylabel(r'$E$/eV')\n",
    "plt.legend(frameon=False)\n",
    "plt.show()"
   ]
  },
  {
   "cell_type": "markdown",
   "metadata": {},
   "source": [
    "The Lennard-Jones potential is not the only way to model the van der Waals interaction. \n",
    "Another commonly applied potential model is the **Buckingham** potential [[3](#references)].\n",
    "Similar to the Lennard-Jones potential, the Buckingham models the attractive term with a sixth power dependency on the distance between the two bonded particles. \n",
    "However, instead of a twelfth power repulsion term an exponential function is utilised instead. \n",
    "The total Buckingham potential has the following form, \n",
    "\n",
    "$$ E_{\\text{Buckingham}}(r) = A\\exp{(-Br)} - \\dfrac{C}{r^6}, $$\n",
    "\n",
    "where $A$, $B$, and $C$ are interaction specific parameters that must be determined. \n",
    "\n",
    "The Python code below allows the comparison between these two van der Waals potentials, using defined parameters for an argon-argon interaction [[2,3](#references)]."
   ]
  },
  {
   "cell_type": "code",
   "execution_count": 17,
   "metadata": {},
   "outputs": [
    {
     "data": {
      "image/png": "[encoded data removed]",
      "text/plain": [
       "<Figure size 432x288 with 1 Axes>"
      ]
     },
     "metadata": {
      "needs_background": "light"
     },
     "output_type": "display_data"
    }
   ],
   "source": [
    "def buckingham_energy(rij, a, b, c):\n",
    "    \"\"\"\n",
    "    Implementation of the Buckingham potential \n",
    "    to calculate the energy of the interaction.\n",
    "    \n",
    "    Parameters\n",
    "    ----------\n",
    "    r: float\n",
    "        Distance between two particles (Å)\n",
    "    a: float \n",
    "        A parameter for the interaction (eV)\n",
    "    b: float \n",
    "        B parameter for the interaction (eV)\n",
    "    c: float \n",
    "        C parameter for the interaction (eV)\n",
    "        \n",
    "    Returns\n",
    "    -------\n",
    "    float\n",
    "        Energy of the van der Waals interaction\n",
    "    \"\"\"\n",
    "    return a * np.exp(-b * r) - c / np.power(r, 6)\n",
    "\n",
    "r = np.linspace(3, 8, 100)\n",
    "plt.plot(r, buckingham_energy(r, 10549.313, 3.66, 63.670), label='Buckingham')\n",
    "plt.plot(r, lj_energy(r, 0.0103, 3.4), label='Lennard-Jones')\n",
    "plt.xlabel(r'$r$/Å')\n",
    "plt.ylabel(r'$E$/eV')\n",
    "plt.legend(frameon=False)\n",
    "plt.show()"
   ]
  },
  {
   "cell_type": "markdown",
   "metadata": {},
   "source": [
    "There is a small but clear difference between the two potential energy functions; this may be due to the different potential model or due to the [parameterisation](http://pythoninchemistry.org/sim_and_scat/parameterisation/intro) of that model."
   ]
  },
  {
   "cell_type": "markdown",
   "metadata": {},
   "source": [
    "## Important\n",
    "\n",
    "These are just two of many potentials for modelling of the van der Waals interaction. Furthermore, the parameters used in the model are just one example of the many possible parameterisations of the argon-argon interaction. "
   ]
  },
  {
   "cell_type": "markdown",
   "metadata": {},
   "source": [
    "## References\n",
    "\n",
    "1. Lennard-Jones, J. E. *Proc. Royal Soc. Lond. A.* 1924, **106** (738), 463–477. [10.1098/rspa.1924.0082](https://doi.org/10.1098/rspa.1924.0082).\n",
    "2. Rahman, A. *Phys. Rev.* 1964, **136** (2A), A405–A411. [10.1103/PhysRev.136.A405](https://doi.org/10.1103/PhysRev.136.A405).\n",
    "3. Buckingham, R. A. *Proc. Royal Soc. Lond. A.* 1938, **168** (933), 264–283. [10.1098/rspa.1938.0173](https://doi.org/10.1098/rspa.1938.0173)."
   ]
  },
  {
   "cell_type": "code",
   "execution_count": null,
   "metadata": {},
   "outputs": [],
   "source": []
  }
 ],
 "metadata": {
  "kernelspec": {
   "display_name": "Python 3",
   "language": "python",
   "name": "python3"
  },
  "language_info": {
   "codemirror_mode": {
    "name": "ipython",
    "version": 3
   },
   "file_extension": ".py",
   "mimetype": "text/x-python",
   "name": "python",
   "nbconvert_exporter": "python",
   "pygments_lexer": "ipython3",
   "version": "3.7.1"
  }
 },
 "nbformat": 4,
 "nbformat_minor": 2
}
