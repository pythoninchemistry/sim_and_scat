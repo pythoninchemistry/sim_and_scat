{
 "cells": [
  {
   "cell_type": "markdown",
   "metadata": {},
   "source": [
    "# Charged interactions\n",
    "\n",
    "In addition to the van der Waals interactions, to model *real* chemical systems, it is also important to consider the interactions between charged species. \n",
    "Charged interactions are models using Coulomb's law [[1, 2](#references)], \n",
    "\n",
    "$$ E_{\\text{Coulomb}}(r) = \\frac{1}{4\\pi\\varepsilon_0}\\frac{q_iq_je^2}{r^2}, $$ \n",
    "\n",
    "where, $q_i$ and $q_j$ are the electronic charge on the particles, $e$ is the charge of the electron, $\\varepsilon_0$ is the dielectric permitivity of vacuum, and $r$ is the distance between the two point charges. \n",
    "\n",
    "The Python code below defines a function that models the electrostatic interaction using Coulomb's law and plots it."
   ]
  },
  {
   "cell_type": "code",
   "execution_count": 2,
   "metadata": {},
   "outputs": [
    {
     "data": {
      "text/plain": [
       "<Figure size 640x480 with 1 Axes>"
      ]
     },
     "metadata": {},
     "output_type": "display_data"
    }
   ],
   "source": [
    "import numpy as np\n",
    "import matplotlib.pyplot as plt\n",
    "from scipy.constants import e, epsilon_0\n",
    "\n",
    "def coulomb_energy(qi, qj, r):\n",
    "    \"\"\"\n",
    "    Calculation of Coulomb's law.\n",
    "    \n",
    "    Parameters\n",
    "    ----------\n",
    "    qi: float\n",
    "        Electronic charge on particle i\n",
    "    qj: float\n",
    "        Electronic charge on particle j\n",
    "    r: float \n",
    "        Distance between particles i and j (Å)\n",
    "        \n",
    "    Returns\n",
    "    -------\n",
    "    float\n",
    "        Energy of the Coulombic interaction (eV)\n",
    "    \"\"\"\n",
    "    energy_joules = (qi * qj * e ** 2) / (\n",
    "        4 * np.pi * epsilon_0 * r * 1e-10)\n",
    "    return energy_joules / 1.602e-19\n",
    "\n",
    "r = np.linspace(3, 5, 100)\n",
    "plt.plot(r, coulomb_energy(1, -1, r))\n",
    "plt.xlabel(r'$r$/Å')\n",
    "plt.ylabel(r'$E$/eV')\n",
    "plt.show()"
   ]
  },
  {
   "cell_type": "markdown",
   "metadata": {},
   "source": [
    "The above code and plot can be thought of as the interaction between a sodium ion (Na<sup>+</sup>) and a chloride ion (Cl<sup>-</sup>).\n",
    "These ions have opposite charges and therefore will be very strongly attracted to each other.\n",
    "The above plot shows that the interaction is always attractive. \n",
    "However, if this were the case oppositely charged atoms would collapse into each other. \n",
    "This appears to be the case because we must also consider the van der Waals interaction that is present.  \n",
    "This means that to determine the total potential energy for the Na<sup>+</sup> and Cl<sup>-</sup> interaction we must consider the sum of the van der Waals interaction (modelled with the Lennard-Jones potential model) and the charged interaction (modelled with Coulomb's law). "
   ]
  },
  {
   "cell_type": "code",
   "execution_count": 10,
   "metadata": {},
   "outputs": [
    {
     "data": {
      "image/png": "[encoded data removed]",
      "text/plain": [
       "<Figure size 432x288 with 1 Axes>"
      ]
     },
     "metadata": {
      "needs_background": "light"
     },
     "output_type": "display_data"
    }
   ],
   "source": [
    "def lj_energy(r, epsilon, sigma):\n",
    "    \"\"\"\n",
    "    Implementation of the Lennard-Jones potential \n",
    "    to calculate the energy of the interaction.\n",
    "    \n",
    "    Parameters\n",
    "    ----------\n",
    "    r: float\n",
    "        Distance between two particles (Å)\n",
    "    epsilon: float \n",
    "        Potential energy at the equilibrium bond \n",
    "        length (eV)\n",
    "    sigma: float \n",
    "        Distance at which the potential energy is \n",
    "        zero (Å)\n",
    "    \n",
    "    Returns\n",
    "    -------\n",
    "    float\n",
    "        Energy of the van der Waals interaction (eV)\n",
    "    \"\"\"\n",
    "    return 4 * epsilon * np.power(\n",
    "        sigma / r, 12) - 4 * epsilon * np.power(\n",
    "        sigma / r, 6)\n",
    "\n",
    "r = np.linspace(1.75, 5, 100)\n",
    "plt.plot(r, lj_energy(r, 0.0301, 2.65), \n",
    "         label='van der Waals')\n",
    "plt.plot(r, coulomb_energy(1, -1, r), \n",
    "         label='Charged')\n",
    "plt.plot(r, lj_energy(\n",
    "    r, 0.0301, 2.65) + coulomb_energy(1, -1, r), \n",
    "         label='Total')\n",
    "plt.xlabel(r'$r$/Å')\n",
    "plt.ylabel(r'$E$/eV')\n",
    "plt.legend(frameon=False)\n",
    "plt.show()"
   ]
  },
  {
   "cell_type": "markdown",
   "metadata": {},
   "source": [
    "The presence of the van der Waals interaction introduces the Pauli exclusion principle stopping the unphysical collapse of the two ions. "
   ]
  },
  {
   "cell_type": "markdown",
   "metadata": {},
   "source": [
    "## References\n",
    "\n",
    "1. Coulomb, C. A. *Histoire de l’Académie Royale des Sciences* 1788, 569–577.\n",
    "2. Coulomb, C. A. *Histoire de l’Académie Royale des Sciences* 1788, 578–611."
   ]
  },
  {
   "cell_type": "code",
   "execution_count": null,
   "metadata": {},
   "outputs": [],
   "source": []
  }
 ],
 "metadata": {
  "kernelspec": {
   "display_name": "Python 3",
   "language": "python",
   "name": "python3"
  },
  "language_info": {
   "codemirror_mode": {
    "name": "ipython",
    "version": 3
   },
   "file_extension": ".py",
   "mimetype": "text/x-python",
   "name": "python",
   "nbconvert_exporter": "python",
   "pygments_lexer": "ipython3",
   "version": "3.7.1"
  }
 },
 "nbformat": 4,
 "nbformat_minor": 2
}
