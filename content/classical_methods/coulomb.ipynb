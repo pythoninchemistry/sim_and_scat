{
 "cells": [
  {
   "cell_type": "markdown",
   "metadata": {},
   "source": [
    "# Charged interactions\n",
    "\n",
    "In addition to the van der Waals interactions, to model *real* chemical systems, it is also important to consider the interactions between charged species. \n",
    "Charged interactions are models using Coulomb's law [[1, 2](#references)], \n",
    "\n",
    "$$ E_{\\text{Coulomb}}(r) = \\frac{1}{4\\pi\\varepsilon_0}\\frac{q_iq_je^2}{r^2}, $$ \n",
    "\n",
    "where, $q_i$ and $q_j$ are the electronic charge on the particles, $e$ is the charge of the electron, $\\varepsilon_0$ is the dielectric permitivity of vacuum, and $r$ is the distance between the two point particles. \n",
    "\n",
    "The Python code below defines a function that models the electrostatic interaction using Coulomb's law and plots it."
   ]
  },
  {
   "cell_type": "code",
   "execution_count": 7,
   "metadata": {},
   "outputs": [
    {
     "data": {
      "image/png": "[encoded data removed]",
      "text/plain": [
       "<Figure size 432x288 with 1 Axes>"
      ]
     },
     "metadata": {
      "needs_background": "light"
     },
     "output_type": "display_data"
    }
   ],
   "source": [
    "import numpy as np\n",
    "import matplotlib.pyplot as plt\n",
    "from scipy.constants import e, epsilon_0\n",
    "\n",
    "def coulomb_energy(qi, qj, rij):\n",
    "    \"\"\"\n",
    "    Calculation of Coulomb's law.\n",
    "    \n",
    "    Parameters\n",
    "    ----------\n",
    "    qi: float\n",
    "        Electronic charge on particle i\n",
    "    qj: float\n",
    "        Electronic charge on particle j\n",
    "    rij: float \n",
    "        Distance between particles i and j\n",
    "        \n",
    "    Returns\n",
    "    -------\n",
    "    float\n",
    "        Energy of the Coulombic interaction\n",
    "    \"\"\"\n",
    "    return (qi * qj * e ** 2) / (4 * np.pi * epsilon_0 * r * 1e-10) / 1.602e-19\n",
    "\n",
    "r = np.linspace(3, 8, 100)\n",
    "plt.plot(r, coulomb_energy(1, -1, r))\n",
    "plt.xlabel(r'$r$/Å')\n",
    "plt.ylabel(r'$E$/eV')\n",
    "plt.show()"
   ]
  },
  {
   "cell_type": "markdown",
   "metadata": {},
   "source": [
    "The above code and plot can be thought of as the interaction between a sodium ion (Na<sup>+</sup>) and a chloride ion (Cl<sup>-</sup>).\n",
    "These ions have opposite charges and therefore will be very strongly attracted to each other.\n",
    "However, ofcourse there is also a van der Waals interaction present for the interaction between oppositely charged ions. \n",
    "This means that the total potential energy for the Na<sup>+</sup> and Cl<sup>-</sup> interaction it is necessary to consider the sum of the van der Waals interaction (modelled with the Lennard-Jones potential model) and the charged interaction (modelled with Coulomb's law). "
   ]
  },
  {
   "cell_type": "code",
   "execution_count": 23,
   "metadata": {},
   "outputs": [
    {
     "data": {
      "image/png": "[encoded data removed]",
      "text/plain": [
       "<Figure size 432x288 with 1 Axes>"
      ]
     },
     "metadata": {
      "needs_background": "light"
     },
     "output_type": "display_data"
    }
   ],
   "source": [
    "def attractive_energy(r, epsilon, sigma):\n",
    "    \"\"\"\n",
    "    Attractive component of the Lennard-Jones interaction\n",
    "    energy.\n",
    "    \n",
    "    Parameters\n",
    "    ----------\n",
    "    r: float\n",
    "        Distance between two particles (Å)\n",
    "    epsilon: float \n",
    "        Potential energy at the equilibrium bond length (eV)\n",
    "    sigma: float \n",
    "        Distance at which the potential energy is zero (Å)\n",
    "    \n",
    "    Returns\n",
    "    -------\n",
    "    float\n",
    "        Energy of attractive component of Lennard-Jones \n",
    "        interaction\n",
    "    \"\"\"\n",
    "    return -4 * epsilon * np.power(sigma / r, 6)\n",
    "\n",
    "def repulsive_energy(r, epsilon, sigma):\n",
    "    \"\"\"\n",
    "    Repulsive component of the Lennard-Jones interaction\n",
    "    energy.\n",
    "    \n",
    "    Parameters\n",
    "    ----------\n",
    "    r: float\n",
    "        Distance between two particles (Å)\n",
    "    epsilon: float \n",
    "        Potential energy at the equilibrium bond length (eV)\n",
    "    sigma: float \n",
    "        Distance at which the potential energy is zero (Å)\n",
    "    \n",
    "    Returns\n",
    "    -------\n",
    "    float\n",
    "        Energy of repulsive component of Lennard-Jones \n",
    "        interaction\n",
    "    \"\"\"\n",
    "    return 4 * epsilon * np.power(sigma / r, 12)\n",
    "\n",
    "def lj_energy(r, epsilon, sigma):\n",
    "    \"\"\"\n",
    "    Implementation of the Lennard-Jones potential \n",
    "    to calculate the energy of the interaction.\n",
    "    \n",
    "    Parameters\n",
    "    ----------\n",
    "    r: float\n",
    "        Distance between two particles (Å)\n",
    "    epsilon: float \n",
    "        Potential energy at the equilibrium bond length (eV)\n",
    "    sigma: float \n",
    "        Distance at which the potential energy is zero (Å)\n",
    "    \n",
    "    Returns\n",
    "    -------\n",
    "    float\n",
    "        Energy of the van der Waals interaction\n",
    "    \"\"\"\n",
    "    return repulsive_energy(r, epsilon, sigma) + attractive_energy(r, epsilon, sigma)\n",
    "\n",
    "r = np.linspace(1.75, 5, 100)\n",
    "plt.plot(r, lj_energy(r, 0.0301, 2.65), label='van der Waals')\n",
    "plt.plot(r, coulomb_energy(1, -1, r), label='Charged')\n",
    "plt.plot(r, lj_energy(r, 0.0301, 2.65) + coulomb_energy(1, -1, r), \n",
    "         label='Total')\n",
    "plt.xlabel(r'$r$/Å')\n",
    "plt.ylabel(r'$E$/eV')\n",
    "plt.legend(frameon=False)\n",
    "plt.show()"
   ]
  },
  {
   "cell_type": "markdown",
   "metadata": {},
   "source": [
    "## References\n",
    "\n",
    "1. Coulomb, C. A. *Histoire de l’Académie Royale des Sciences* 1788, 569–577.\n",
    "2. Coulomb, C. A. *Histoire de l’Académie Royale des Sciences* 1788, 578–611."
   ]
  },
  {
   "cell_type": "code",
   "execution_count": null,
   "metadata": {},
   "outputs": [],
   "source": []
  }
 ],
 "metadata": {
  "kernelspec": {
   "display_name": "Python 3",
   "language": "python",
   "name": "python3"
  },
  "language_info": {
   "codemirror_mode": {
    "name": "ipython",
    "version": 3
   },
   "file_extension": ".py",
   "mimetype": "text/x-python",
   "name": "python",
   "nbconvert_exporter": "python",
   "pygments_lexer": "ipython3",
   "version": "3.7.1"
  }
 },
 "nbformat": 4,
 "nbformat_minor": 2
}
