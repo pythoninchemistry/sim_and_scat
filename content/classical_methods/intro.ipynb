{
 "cells": [
  {
   "cell_type": "markdown",
   "metadata": {},
   "source": [
    "# Classical methods\n",
    "\n",
    "**Classical methods** is a phrase used to describe techniques that make use of a potential model (sometimes called a force-field) to simulated chemical systems.\n",
    "Examples are molecular dynamics (which we will cover in this resource), Monte Carlo, Langevin dynamics, etc.\n",
    "\n",
    "The Born-Oppenheimer approximation allows the motions of the nuclei and the electrons to be separated, due to the large difference in their size.\n",
    "This gives theoretical chemistry two options for how to model a chemical system, and determine the potential energy and therefore the mostly likely configuration: \n",
    "- treat the nuclei as stationary and model the motions and interactions of the electrons using the Schrödinger equation\n",
    "- to integrate the motions of the electrons into the nuclei and model these particles as point charges\n",
    "\n",
    "The former is the basis for quantum mechanical calculations, such as density functional theory (DFT) methods. \n",
    "In these methods, the aim is to find an iterative solution to the Schrödinger equation. \n",
    "However, these methods are **very** computationally expensive, and are therefore realistically limited to hundreds or thousands of atoms [[1](#References)]. \n",
    "We will not discuss quantum mechanical methods more than this, for more information there are many great textbooks on the subject [[2,3](#References)]. \n",
    "\n",
    "The latter methods are what are known as **classical methods**.\n",
    "Classical methods involved the use of a potential model (sometimes called a force-field) to simulate chemical systems. \n",
    "Examples of simulations techniques that may leverage classical methods include molecular dynamics (which we will cover in this resource), Monte Carlo, Langevin dynamics, etc.\n",
    "A potential model uses mathematical functions to determine the potential energy of a given configuration of atoms. \n",
    "The use of mathematical functions to model the interactions of the particles is less computationally expensive than quantum mechanical methods meaning that it is possible to simulated larger systems. \n",
    "\n",
    "An example of a classical method can be seen below where the particles have only a var der Waals interaction, which is a good model for argon gas.\n",
    "The number in the function is the temperature of the simulation in Kelvin. \n",
    "Click the \"Interact\" button above to launch an interactive MyBinder page, you can then run the simulation at a series of different temperatures and see how the particles move. "
   ]
  },
  {
   "cell_type": "code",
   "execution_count": null,
   "metadata": {},
   "outputs": [],
   "source": [
    "import vdw\n",
    "%matplotlib notebook\n",
    "vdw.simulation(300)"
   ]
  },
  {
   "cell_type": "markdown",
   "metadata": {},
   "source": [
    "## References \n",
    "\n",
    "1. Erba, A.; Baima, J.; Bush, I.; Orlando, R.; Dovesi, R. *J. Chem. Theory Comput.* 2017, **13** (10), 5019–5027. [10.1021/acs.jctc.7b00687](https://doi.org/10.1021/acs.jctc.7b00687).\n",
    "2. Harvey, J. *Computational Chemistry*; Oxford University Press: Oxford, 2018.\n",
    "3. Atkins, P. W.; Friedmann, R. S. *Molecular Quantum Mechanics*, 5th ed.; Oxford University Press: Oxford, 2010."
   ]
  },
  {
   "cell_type": "code",
   "execution_count": null,
   "metadata": {},
   "outputs": [],
   "source": []
  }
 ],
 "metadata": {
  "kernelspec": {
   "display_name": "Python 3",
   "language": "python",
   "name": "python3"
  },
  "language_info": {
   "codemirror_mode": {
    "name": "ipython",
    "version": 3
   },
   "file_extension": ".py",
   "mimetype": "text/x-python",
   "name": "python",
   "nbconvert_exporter": "python",
   "pygments_lexer": "ipython3",
   "version": "3.7.1"
  }
 },
 "nbformat": 4,
 "nbformat_minor": 2
}
