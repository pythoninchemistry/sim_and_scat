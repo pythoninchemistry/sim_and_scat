{
 "cells": [
  {
   "cell_type": "markdown",
   "metadata": {
    "slideshow": {
     "slide_type": "slide"
    }
   },
   "source": [
    "# Using pylj"
   ]
  },
  {
   "cell_type": "markdown",
   "metadata": {},
   "source": [
    "pylj is an open-source tool to **enable interaction between students** (the users of this resource) and molecular dynamics simulations [[1,2](#references)]. \n",
    "This software enables the simulation of argon atoms in a two-dimensional box. \n",
    "The Python code below runs a pylj molecular dynamics simulation. "
   ]
  },
  {
   "cell_type": "code",
   "execution_count": null,
   "metadata": {},
   "outputs": [],
   "source": [
    "from pylj import md, sample\n",
    "\n",
    "def md_simulation(number_of_particles, temperature, box_length, \n",
    "                  number_of_steps, sample_frequency):\n",
    "    \"\"\"\n",
    "    Runs a molecular dynamics simulation in suing the pylj \n",
    "    molecular dynamics engine.\n",
    "    \n",
    "    Parameters\n",
    "    ----------\n",
    "    number_of_particles: int\n",
    "        The number of particles in the simulation\n",
    "    temperature: float\n",
    "        The temperature for the initialisation and thermostating\n",
    "    box_length: float\n",
    "        The length of the simulation square\n",
    "    number_of_steps: int\n",
    "        The number of molecular dynamics steps to run\n",
    "    sample_frequency: \n",
    "        How regularly the visualisation should be updated\n",
    "        \n",
    "    Returns\n",
    "    -------\n",
    "    pylj.util.System\n",
    "        The complete system information from pylj\n",
    "    \"\"\"\n",
    "    # Creates the visualisation environment\n",
    "    %matplotlib notebook\n",
    "    # Initialise the system\n",
    "    system = md.initialise(number_of_particles, temperature, \n",
    "                           box_length, 'square')\n",
    "    # This sets the sampling class\n",
    "    sample_system = sample.JustCell(system)\n",
    "    # Start at time 0\n",
    "    system.time = 0\n",
    "    # Begin the molecular dynamics loop\n",
    "    for i in range(0, number_of_steps):\n",
    "        # Run the equations of motion integrator algorithm, this \n",
    "        # includes the force calculation\n",
    "        system.integrate(md.velocity_verlet)\n",
    "        # Sample the thermodynamic and structural parameters \n",
    "        # of the system\n",
    "        system.md_sample()\n",
    "        # Allow the system to interact with a heat bath\n",
    "        system.heat_bath(temperature)\n",
    "        # Iterate the time\n",
    "        system.time += system.timestep_length\n",
    "        system.step += 1\n",
    "        # At a given frequency sample the positions and plot \n",
    "        # the RDF\n",
    "        if system.step % sample_frequency == 0:\n",
    "            sample_system.update(system)\n",
    "    return system\n",
    "\n",
    "system = md_simulation(20, 300, 20, 5000, 10)"
   ]
  },
  {
   "cell_type": "markdown",
   "metadata": {},
   "source": [
    "The functionality of pylj that we will be using is the ability to **add custom plots** to the interface, as well as the storing of information about the particle positions.\n",
    "This is can be observed with the Python code below for the instanteous temperature of the simulation being performed."
   ]
  },
  {
   "cell_type": "code",
   "execution_count": null,
   "metadata": {
    "scrolled": false
   },
   "outputs": [],
   "source": [
    "import numpy as np\n",
    "from pylj import md, sample\n",
    "\n",
    "def md_simulation(number_of_particles, temperature, \n",
    "                  box_length, number_of_steps, sample_frequency):\n",
    "    \"\"\"\n",
    "    Runs a molecular dynamics simulation in suing the \n",
    "    pylj molecular dynamics engine.\n",
    "    \n",
    "    Parameters\n",
    "    ----------\n",
    "    number_of_particles: int\n",
    "        The number of particles in the simulation\n",
    "    temperature: float\n",
    "        The temperature for the initialisation and \n",
    "        thermostating\n",
    "    box_length: float\n",
    "        The length of the simulation square\n",
    "    number_of_steps: int\n",
    "        The number of molecular dynamics steps to run\n",
    "    sample_frequency: \n",
    "        How regularly the visualisation should be updated\n",
    "        \n",
    "    Returns\n",
    "    -------\n",
    "    pylj.util.System\n",
    "        The complete system information from pylj\n",
    "    \"\"\"\n",
    "    %matplotlib notebook\n",
    "    system = md.initialise(number_of_particles, \n",
    "                           temperature, box_length, 'square')\n",
    "    sample_system = sample.CellPlus(system, \n",
    "                                    'Time/s', 'Temperature/K')\n",
    "    system.time = 0\n",
    "    for i in range(0, number_of_steps):\n",
    "        system.integrate(md.velocity_verlet)\n",
    "        system.md_sample()\n",
    "        system.heat_bath(temperature)\n",
    "        system.time += system.timestep_length\n",
    "        system.step += 1\n",
    "        if system.step % sample_frequency == 0:\n",
    "            sample_system.update(system, \n",
    "                                 np.linspace(0, system.time, \n",
    "                                             system.step), \n",
    "                                 system.temperature_sample)\n",
    "    return system\n",
    "\n",
    "system = md_simulation(20, 300, 20, 5000, 10)"
   ]
  },
  {
   "cell_type": "markdown",
   "metadata": {},
   "source": [
    "It can be seen that there are two differences when adding the custom plot. \n",
    "Firstly, there is the use of the `sample.CellPlus` class, which requires the definition of the labels for the <i>x</i>- and <i>y</i>-axes of the plot. \n",
    "Secondly, there is the inclusion of the <i>x</i>- and <i>y</i>-data to be plotted in the `sample_system.update` line. \n",
    "In the above example these are `np.linspace(0, system.time, system.step)` (which is an array from 0 to the particular simulation timestep at that moment) and `system.temperature_sample` which is an array of the instaneous temperature at each timestep in the simulation. \n",
    "\n",
    "In the next episode we will take advantage of these features to better understand how to determine the scattering profile from the simulation cell. "
   ]
  },
  {
   "cell_type": "markdown",
   "metadata": {},
   "source": [
    "# References \n",
    "\n",
    "1. McCluskey, A. R.; Morgan, B. J.; Edler, K. J.; Parker, S. C. *J. Open Source Educ.* 2018, **1** (2), 19. [10.21105/jose.00019](https://doi.org/10.21105/jose.00019).\n",
    "2. McCluskey, A. R.; Symington, A. R. arm61/pylj: pylj-1.2.1 [10.5281/zenodo.2423866](http://doi.org/10.5281/zenodo.2423866)."
   ]
  },
  {
   "cell_type": "code",
   "execution_count": null,
   "metadata": {},
   "outputs": [],
   "source": []
  }
 ],
 "metadata": {
  "celltoolbar": "Slideshow",
  "kernelspec": {
   "display_name": "Python 3",
   "language": "python",
   "name": "python3"
  },
  "language_info": {
   "codemirror_mode": {
    "name": "ipython",
    "version": 3
   },
   "file_extension": ".py",
   "mimetype": "text/x-python",
   "name": "python",
   "nbconvert_exporter": "python",
   "pygments_lexer": "ipython3",
   "version": "3.7.1"
  }
 },
 "nbformat": 4,
 "nbformat_minor": 2
}
