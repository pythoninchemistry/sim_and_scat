{
 "cells": [
  {
   "cell_type": "markdown",
   "metadata": {},
   "source": [
    "## Calculating distances\n",
    "\n",
    "Now that we have a simulation trajectory, let us consider how to determine the scattering from it. \n",
    "`MDanalysis` is a powerful python package for all things related to analysing molecular dynamics structures, we will use this to help our analysis. \n",
    "First we need to read in the trajectory."
   ]
  },
  {
   "cell_type": "code",
   "execution_count": 1,
   "metadata": {},
   "outputs": [],
   "source": [
    "import MDAnalysis as mda\n",
    "\n",
    "u = mda.Universe('../assets/lysozyme.pdb')"
   ]
  },
  {
   "cell_type": "markdown",
   "metadata": {},
   "source": [
    "This reads the simulation trajectory into the object `u`.\n",
    "We can then iterate through the timesteps with a `for` loop. "
   ]
  },
  {
   "cell_type": "code",
   "execution_count": 2,
   "metadata": {},
   "outputs": [
    {
     "name": "stdout",
     "output_type": "stream",
     "text": [
      "< Timestep 0 with unit cell dimensions [69.594 69.594 69.594 90.    90.    90.   ] >\n",
      "< Timestep 1 with unit cell dimensions [69.692 69.692 69.692 90.    90.    90.   ] >\n",
      "< Timestep 2 with unit cell dimensions [69.619 69.619 69.619 90.    90.    90.   ] >\n",
      "< Timestep 3 with unit cell dimensions [69.703 69.703 69.703 90.    90.    90.   ] >\n",
      "< Timestep 4 with unit cell dimensions [69.652 69.652 69.652 90.    90.    90.   ] >\n",
      "< Timestep 5 with unit cell dimensions [69.648 69.648 69.648 90.    90.    90.   ] >\n",
      "< Timestep 6 with unit cell dimensions [69.621 69.621 69.621 90.    90.    90.   ] >\n",
      "< Timestep 7 with unit cell dimensions [69.648 69.648 69.648 90.    90.    90.   ] >\n",
      "< Timestep 8 with unit cell dimensions [69.735 69.735 69.735 90.    90.    90.   ] >\n",
      "< Timestep 9 with unit cell dimensions [69.641 69.641 69.641 90.    90.    90.   ] >\n",
      "< Timestep 10 with unit cell dimensions [69.58 69.58 69.58 90.   90.   90.  ] >\n"
     ]
    }
   ],
   "source": [
    "for ts in u.trajectory:\n",
    "    print(ts)"
   ]
  },
  {
   "cell_type": "markdown",
   "metadata": {},
   "source": [
    "As we can see, this trajectory has 11 timesteps. \n",
    "Now let us find the distances between each atom in the first of these timesteps, and plot them as a histogram.\n",
    "Note, if you run this for yourself it is really quite slow (hinting to the rational for the development of the more efficient methods metioned earlier). "
   ]
  },
  {
   "cell_type": "code",
   "execution_count": 4,
   "metadata": {},
   "outputs": [
    {
     "data": {
      "image/png": "[encoded data removed]",
      "text/plain": [
       "<Figure size 432x288 with 1 Axes>"
      ]
     },
     "metadata": {
      "needs_background": "light"
     },
     "output_type": "display_data"
    }
   ],
   "source": [
    "import matplotlib.pyplot as plt\n",
    "from MDAnalysis.analysis.distances import dist\n",
    "\n",
    "for ts in u.trajectory:\n",
    "    distances = []\n",
    "    for i in range(0, len(u.atoms)-1):\n",
    "        for j in range(i + 1, len(u.atoms)):\n",
    "            distances.append(dist(mda.AtomGroup([u.atoms[i]]), mda.AtomGroup([u.atoms[j]]), box=ts.dimensions)[2][0])\n",
    "    break\n",
    "    \n",
    "plt.hist(distances, bins=20)\n",
    "plt.xlabel('Distance/Å')\n",
    "plt.ylabel('Frequency')\n",
    "plt.show()"
   ]
  },
  {
   "cell_type": "markdown",
   "metadata": {},
   "source": [
    "So we now have a histogram of all of the interatomic distances, but that gives useful no information about the scattering. \n",
    "This is because we have not considered the scattering lengths for each of the elements. "
   ]
  },
  {
   "cell_type": "code",
   "execution_count": null,
   "metadata": {},
   "outputs": [],
   "source": []
  }
 ],
 "metadata": {
  "kernelspec": {
   "display_name": "Python 3",
   "language": "python",
   "name": "python3"
  },
  "language_info": {
   "codemirror_mode": {
    "name": "ipython",
    "version": 3
   },
   "file_extension": ".py",
   "mimetype": "text/x-python",
   "name": "python",
   "nbconvert_exporter": "python",
   "pygments_lexer": "ipython3",
   "version": "3.7.1"
  }
 },
 "nbformat": 4,
 "nbformat_minor": 2
}
