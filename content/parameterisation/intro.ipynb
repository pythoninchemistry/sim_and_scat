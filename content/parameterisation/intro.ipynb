{
 "cells": [
  {
   "cell_type": "markdown",
   "metadata": {
    "slideshow": {
     "slide_type": "slide"
    }
   },
   "source": [
    "# Parameterisation"
   ]
  },
  {
   "cell_type": "markdown",
   "metadata": {
    "slideshow": {
     "slide_type": "slide"
    }
   },
   "source": [
    "Once the potential energy function to be used for a particular interaction has been determined, it is then necessary to **parameterise** the function. \n",
    "If we think back to the classical electrostatic interaction between two oppositely charged point particles, we would set the values of $q_i$ and $q_j$ to be 1 and -1, for modelling the interaction between a sodium and chloride ion pair. \n",
    "This was the parameterisation step for that system. \n",
    "\n",
    "For an ion pair with integer charges this is straight-forward. \n",
    "However, consider modelling the potential energy between a carbonyl oxygen atom of a hydrocarbon molecule and the hydrogen atom of a water molecule. \n",
    "Both of these have some charged character, however, this is **ill defined**, but must be accounted for.\n",
    "\n",
    "The difficulty of deducing the correct parameterisation is inherent to **all** potential energy functions. \n",
    "For the Lennard-Jones function, the parameterisation involves determining the best possible values for $A$ and $B$. \n",
    "\n",
    "## How to parameterise a potential model?\n",
    "\n",
    "The purpose of parameterisation is to create a potential energy model that is able to **accurately reproduce** the energy of a given interaction. \n",
    "This means that the parameters should really be obtained by optimising them with respect to a **more accurate** technique than classical simulation. \n",
    "Commonly this involves either experimental measurements, e.g. X-ray crystallography, or quantum mechanical calculations; we will be focusing on the latter. \n",
    "\n",
    "More can be found out about quantum mechanical calculations in the textbooks mentioned in the introduction (in particular Jeremy Harvey's Computational Chemistry Primer [[1](#references)]).\n",
    "However, for our current purposes we only need to remember the previous lesson where it was introduced that quantum calculations are more accurate than classical simulations."
   ]
  },
  {
   "cell_type": "markdown",
   "metadata": {},
   "source": [
    "### Quantum mechanical calculations\n",
    "\n",
    "These are more accurate then classical simulations. However, they are severely limited in the system size, with a maximum simulation size in the order of hundreds atoms. "
   ]
  },
  {
   "cell_type": "markdown",
   "metadata": {},
   "source": [
    "We will stick with the example of a Lennard-Jones interaction, however the arguments and methods discussed are **extensible to all different interaction types**. \n",
    "To generate the potential energy model between two particles of argon, we could conduct quantum mechanical calculations at a range of inter-atom separations, from 3 to 8 Å, finding the energy between the two particles at each separation.\n",
    "\n",
    "The Python code below plots the energy vs distances that may be obtained from a quantum mechanical calculation. "
   ]
  },
  {
   "cell_type": "code",
   "execution_count": 4,
   "metadata": {},
   "outputs": [
    {
     "data": {
      "image/png": "[encoded data removed]",
      "text/plain": [
       "<Figure size 576x360 with 1 Axes>"
      ]
     },
     "metadata": {
      "needs_background": "light"
     },
     "output_type": "display_data"
    }
   ],
   "source": [
    "import matplotlib.pyplot as plt\n",
    "import numpy as np\n",
    "\n",
    "rij = [3e-10, 4e-10, 5e-10, 6e-10, 7e-10, 8e-10]\n",
    "energy = [127.27e-22, -13.52e-22, -6.37e-22, -1.42e-22, -0.58e-22, -0.25e-22]\n",
    "energy_err = [12.92e-22, 1.45e-22, 0.54e-22, 0.19e-22, 0.08e-22, 0.04e-22]\n",
    "\n",
    "fig = plt.figure(figsize=(8, 5))\n",
    "ax = fig.add_subplot(111)\n",
    "ax.errorbar(rij, energy, yerr=energy_err, marker='o', ls='')\n",
    "ax.set_xlabel(r'$r_{ij}$/m')\n",
    "ax.set_ylabel(r'$E$/J')\n",
    "plt.show()"
   ]
  },
  {
   "cell_type": "markdown",
   "metadata": {},
   "source": [
    "We can already see that the general shape of the curve is similar to a Lennard-Jones (or Buckingham) interaction.\n",
    "There is a well at the **equilibrium bond distance** and a steep incline as the particles come **too close** together. \n",
    "It is possible to then fit a Lennard-Jones function to this data, the Python code below does this using a simple least-squares fit."
   ]
  },
  {
   "cell_type": "code",
   "execution_count": 5,
   "metadata": {
    "scrolled": true
   },
   "outputs": [
    {
     "name": "stdout",
     "output_type": "stream",
     "text": [
      "Best value for a = 1.25e-134 J/m12\n",
      "Best value for b = 8.17e-78 J/m6\n"
     ]
    }
   ],
   "source": [
    "from scipy.optimize import curve_fit\n",
    "\n",
    "def lj_energy(rij, a, b):\n",
    "    \"\"\"\n",
    "    Implementation of the Lennard-Jones potential \n",
    "    to calculate the energy of the interaction.\n",
    "    \n",
    "    Parameters\n",
    "    ----------\n",
    "    rij: float\n",
    "        Distance between particles i and j\n",
    "    a: float \n",
    "        A parameter for interaction between i and j\n",
    "    b: float \n",
    "        B parameter for interaction between i and j\n",
    "    \n",
    "    Returns\n",
    "    -------\n",
    "    float\n",
    "        Energy of the interaction between i and j.\n",
    "    \"\"\"\n",
    "    return a / np.power(rij, 12) - b / np.power(rij, 6)\n",
    "    \n",
    "popt, pcov = curve_fit(lj_energy, rij, energy, sigma=energy_err)\n",
    "print('Best value for a = {:.2e} J/m12'.format(popt[0]))\n",
    "print('Best value for b = {:.2e} J/m6'.format(popt[1]))"
   ]
  },
  {
   "cell_type": "markdown",
   "metadata": {},
   "source": [
    "If we plot a Lennard-Jones function with the values fitted and the quantum mechnical data on a single plot, we can see that there is **relatively good agreement** between the two. \n",
    "However, there is some deviation at 4 and 5 Å and therefore more quantum mechnical calculations would **required** to produce a truely accurate forcefield. "
   ]
  },
  {
   "cell_type": "code",
   "execution_count": 6,
   "metadata": {},
   "outputs": [
    {
     "data": {
      "image/png": "[encoded data removed]",
      "text/plain": [
       "<Figure size 576x360 with 1 Axes>"
      ]
     },
     "metadata": {
      "needs_background": "light"
     },
     "output_type": "display_data"
    }
   ],
   "source": [
    "fig = plt.figure(figsize=(8, 5))\n",
    "ax = fig.add_subplot(111)\n",
    "ax.errorbar(rij, energy, yerr=energy_err, marker='o', ls='')\n",
    "x = np.linspace(3e-10, 8e-10, 1000)\n",
    "ax.plot(x, lj_energy(x, popt[0], popt[1]))\n",
    "ax.set_xlabel(r'$r_{ij}$/m')\n",
    "ax.set_ylabel(r'$E$/J')\n",
    "plt.show()"
   ]
  },
  {
   "cell_type": "markdown",
   "metadata": {},
   "source": [
    "Note that it would be necessary to carry out this process for **every** interaction in your calculation, e.g. bond lengths, bond angles, dihedral angles, van der Waals and Coulombic interactions forces, etc. \n",
    "Furthermore, it is important to remember the **different chemistry** that is present for each atom. \n",
    "For example, a carbon atom in a carbonyl group will not act the same as the carbon atom in a methane molecule. \n",
    "To carry out these calculations for *every* molecular dynamics simulation that you wish to perform very quickly becomes highly unfeasible."
   ]
  },
  {
   "cell_type": "markdown",
   "metadata": {
    "slideshow": {
     "slide_type": "slide"
    }
   },
   "source": [
    "## References\n",
    "\n",
    "1. Harvey, J. *Computational Chemistry*; Oxford University Press: Oxford, 2018."
   ]
  },
  {
   "cell_type": "code",
   "execution_count": null,
   "metadata": {},
   "outputs": [],
   "source": []
  }
 ],
 "metadata": {
  "celltoolbar": "Slideshow",
  "kernelspec": {
   "display_name": "Python 3",
   "language": "python",
   "name": "python3"
  },
  "language_info": {
   "codemirror_mode": {
    "name": "ipython",
    "version": 3
   },
   "file_extension": ".py",
   "mimetype": "text/x-python",
   "name": "python",
   "nbconvert_exporter": "python",
   "pygments_lexer": "ipython3",
   "version": "3.7.1"
  }
 },
 "nbformat": 4,
 "nbformat_minor": 2
}
