{
 "cells": [
  {
   "cell_type": "markdown",
   "metadata": {
    "slideshow": {
     "slide_type": "slide"
    }
   },
   "source": [
    "# Parameterisation"
   ]
  },
  {
   "cell_type": "markdown",
   "metadata": {
    "slideshow": {
     "slide_type": "slide"
    }
   },
   "source": [
    "Once the potential energy function to be used for a particular interaction has been determined, it is then necessary to **parameterise** the function. \n",
    "\n",
    "If we consider the Lennard-Jones potential model.\n",
    "In this model it is necessary to determine two parameters, $\\sigma$ and $\\varepsilon$. \n",
    "$\\sigma$ is the distance at which the potential energy between the two particles is zero, $-\\varepsilon$ is the potential energy at the equilbrium separation. \n",
    "Both of these numbers must be determined for a pair of atoms. \n",
    "This is achieved by **parameterisation**.\n",
    "\n",
    "## How to parameterise a potential model?\n",
    "\n",
    "The purpose of parameterisation is to create a potential energy model that is able to **accurately reproduce** the energy of a given interaction. \n",
    "This may also be thought of as the model that reproduces the structure accurately. \n",
    "This means that the parameters should really be obtained by optimising them with respect to a **more accurate** technique than classical simulation. \n",
    "Commonly this involves either experimental measurements, e.g. X-ray crystallography, or quantum mechanical calculations; we will be focusing on the latter. \n",
    "\n",
    "More can be found out about quantum mechanical calculations in the textbooks mentioned in the introduction (in particular Jeremy Harvey's Computational Chemistry Primer [[1](#references)]).\n",
    "However, for our current purposes we only need to remember that quantum calculations are more accurate than classical simulations."
   ]
  },
  {
   "cell_type": "markdown",
   "metadata": {},
   "source": [
    "### Quantum mechanical calculations\n",
    "\n",
    "These are more accurate then classical simulations. However, they are severely limited in the system size, with a maximum simulation size in the order of hundreds or thousands of atoms. "
   ]
  },
  {
   "cell_type": "markdown",
   "metadata": {},
   "source": [
    "### Parameterising a Lennard-Jones interaction\n",
    "\n",
    "We will stick with the example of a Lennard-Jones interaction, however the arguments and methods discussed are **extensible to all different interaction types**. \n",
    "To generate the potential energy model between two particles of argon, we could conduct quantum mechanical calculations at a range of inter-atom separations, from 3 to 8 Å, finding the energy between the two particles at each separation.\n",
    "\n",
    "The Python code below plots the energy vs distances that may be obtained from a quantum mechanical calculation. "
   ]
  },
  {
   "cell_type": "code",
   "execution_count": 18,
   "metadata": {},
   "outputs": [
    {
     "data": {
      "image/png": "[encoded data removed]",
      "text/plain": [
       "<Figure size 432x288 with 1 Axes>"
      ]
     },
     "metadata": {
      "needs_background": "light"
     },
     "output_type": "display_data"
    }
   ],
   "source": [
    "import matplotlib.pyplot as plt\n",
    "import numpy as np\n",
    "\n",
    "r = [3, 4, 5, 6, 7, 8]\n",
    "energy = [0.0794, -0.0084, -0.0040, -0.0009, -0.0004, -0.0002]\n",
    "energy_err = [81e-04, 9e-04, 3e-04, 1e-04, 1e-04, 1e-04]\n",
    "\n",
    "plt.errorbar(r, energy, yerr=energy_err, marker='o', ls='')\n",
    "plt.xlabel(r'$r$/Å')\n",
    "plt.ylabel(r'$E$/eV')\n",
    "plt.show()"
   ]
  },
  {
   "cell_type": "markdown",
   "metadata": {},
   "source": [
    "We can already see that the general shape of the curve is similar to a Lennard-Jones (or Buckingham) interaction.\n",
    "There is a well at the **equilibrium bond distance** and a steep incline as the particles come **too close** together. \n",
    "It is possible to then fit a Lennard-Jones function to this data, the Python code below does this using a simple least-squares fit."
   ]
  },
  {
   "cell_type": "code",
   "execution_count": 19,
   "metadata": {
    "scrolled": true
   },
   "outputs": [
    {
     "name": "stdout",
     "output_type": "stream",
     "text": [
      "Best value for ε = 9.15e-03 eV\n",
      "Best value for σ = 3.38 Å\n"
     ]
    }
   ],
   "source": [
    "from scipy.optimize import curve_fit\n",
    "\n",
    "def lj_energy(r, epsilon, sigma):\n",
    "    \"\"\"\n",
    "    Implementation of the Lennard-Jones potential \n",
    "    to calculate the energy of the interaction.\n",
    "    \n",
    "    Parameters\n",
    "    ----------\n",
    "    r: float\n",
    "        Distance between two particles (Å)\n",
    "    epsilon: float \n",
    "        Potential energy at the equilibrium bond length (eV)\n",
    "    sigma: float \n",
    "        Distance at which the potential energy is zero (Å)\n",
    "    \n",
    "    Returns\n",
    "    -------\n",
    "    float\n",
    "        Energy of the van der Waals interaction\n",
    "    \"\"\"\n",
    "    return 4 * epsilon * np.power(\n",
    "        sigma / r, 12) - 4 * epsilon * np.power(sigma / r, 6)\n",
    "\n",
    "popt, pcov = curve_fit(lj_energy, r, energy, sigma=energy_err)\n",
    "print('Best value for ε = {:.2e} eV'.format(popt[0]))\n",
    "print('Best value for σ = {:.2f} Å'.format(popt[1]))"
   ]
  },
  {
   "cell_type": "markdown",
   "metadata": {},
   "source": [
    "If we plot a Lennard-Jones function with the values fitted and the quantum mechnical data on a single plot, we can see that there is **relatively good agreement** between the two. \n",
    "However, there is some deviation at 4 and 5 Å indicating more quantum mechnical calculations would **required** to produce a truely representative forcefield. "
   ]
  },
  {
   "cell_type": "code",
   "execution_count": 20,
   "metadata": {},
   "outputs": [
    {
     "data": {
      "image/png": "[encoded data removed]",
      "text/plain": [
       "<Figure size 432x288 with 1 Axes>"
      ]
     },
     "metadata": {
      "needs_background": "light"
     },
     "output_type": "display_data"
    }
   ],
   "source": [
    "plt.errorbar(r, energy, yerr=energy_err, marker='o', ls='')\n",
    "x = np.linspace(3, 8, 1000)\n",
    "plt.plot(x, lj_energy(x, popt[0], popt[1]))\n",
    "plt.xlabel(r'$r$/Å')\n",
    "plt.ylabel(r'$E$/eV')\n",
    "plt.show()"
   ]
  },
  {
   "cell_type": "markdown",
   "metadata": {},
   "source": [
    "Note that it would be necessary to carry out this process for **every** interaction in your system, e.g. bond lengths, bond angles, dihedral angles, van der Waals and Coulombic interactions forces, etc. \n",
    "Furthermore, it is important to remember the **different chemistry** that is present for each atom. \n",
    "For example, a carbon atom in a carbonyl group will not display the same behaviour as the carbon atom in a methane molecule. \n",
    "To carry out these calculations for *every* molecular dynamics simulation that you wish to perform very quickly becomes highly unfeasible if we want to apply classical simulation regularly."
   ]
  },
  {
   "cell_type": "markdown",
   "metadata": {
    "slideshow": {
     "slide_type": "slide"
    }
   },
   "source": [
    "## References\n",
    "\n",
    "1. Harvey, J. *Computational Chemistry*; Oxford University Press: Oxford, 2018."
   ]
  },
  {
   "cell_type": "code",
   "execution_count": null,
   "metadata": {},
   "outputs": [],
   "source": []
  }
 ],
 "metadata": {
  "celltoolbar": "Slideshow",
  "kernelspec": {
   "display_name": "Python 3",
   "language": "python",
   "name": "python3"
  },
  "language_info": {
   "codemirror_mode": {
    "name": "ipython",
    "version": 3
   },
   "file_extension": ".py",
   "mimetype": "text/x-python",
   "name": "python",
   "nbconvert_exporter": "python",
   "pygments_lexer": "ipython3",
   "version": "3.7.1"
  }
 },
 "nbformat": 4,
 "nbformat_minor": 2
}
